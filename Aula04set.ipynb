{
  "nbformat": 4,
  "nbformat_minor": 0,
  "metadata": {
    "colab": {
      "provenance": [],
      "authorship_tag": "ABX9TyO0qyMC/1K5xom0wtRiXn0Y",
      "include_colab_link": true
    },
    "kernelspec": {
      "name": "python3",
      "display_name": "Python 3"
    },
    "language_info": {
      "name": "python"
    }
  },
  "cells": [
    {
      "cell_type": "markdown",
      "metadata": {
        "id": "view-in-github",
        "colab_type": "text"
      },
      "source": [
        "<a href=\"https://colab.research.google.com/github/Jpaulo05244/Jpaulo_/blob/main/Aula04set.ipynb\" target=\"_parent\"><img src=\"https://colab.research.google.com/assets/colab-badge.svg\" alt=\"Open In Colab\"/></a>"
      ]
    },
    {
      "cell_type": "markdown",
      "source": [
        "**EX.05 - Aula 04**"
      ],
      "metadata": {
        "id": "nvg_5o1KLOrb"
      }
    },
    {
      "cell_type": "markdown",
      "source": [
        "# Na parte de texto explicativo, o hashtag é simbolo em linguagem MARKDOWN usado para formatação TÌTULO"
      ],
      "metadata": {
        "id": "sFC_6TxyK55Z"
      }
    },
    {
      "cell_type": "code",
      "source": [
        "#Hashtag é comentário na parte onde eu programo\n",
        "p = float(input(\"Digite valor em polegadas: \"))\n",
        "mm = p * 25.4\n",
        "print(mm)\n",
        "\n"
      ],
      "metadata": {
        "colab": {
          "base_uri": "https://localhost:8080/"
        },
        "id": "ZPuISruBKCYK",
        "outputId": "7e6b1bbe-c838-4b52-caed-90f5d0ca50b7"
      },
      "execution_count": 3,
      "outputs": [
        {
          "output_type": "stream",
          "name": "stdout",
          "text": [
            "Digite valor em polegadas: 2\n",
            "50.8\n"
          ]
        }
      ]
    }
  ]
}
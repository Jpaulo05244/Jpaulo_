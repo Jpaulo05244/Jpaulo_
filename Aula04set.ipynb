{
  "nbformat": 4,
  "nbformat_minor": 0,
  "metadata": {
    "colab": {
      "provenance": [],
      "authorship_tag": "ABX9TyO75qv346K/qHi8OWWDavGE",
      "include_colab_link": true
    },
    "kernelspec": {
      "name": "python3",
      "display_name": "Python 3"
    },
    "language_info": {
      "name": "python"
    }
  },
  "cells": [
    {
      "cell_type": "markdown",
      "metadata": {
        "id": "view-in-github",
        "colab_type": "text"
      },
      "source": [
        "<a href=\"https://colab.research.google.com/github/Jpaulo05244/Jpaulo_/blob/main/Aula04set.ipynb\" target=\"_parent\"><img src=\"https://colab.research.google.com/assets/colab-badge.svg\" alt=\"Open In Colab\"/></a>"
      ]
    },
    {
      "cell_type": "markdown",
      "source": [
        "**EX.05 - Aula LP)**"
      ],
      "metadata": {
        "id": "nvg_5o1KLOrb"
      }
    },
    {
      "cell_type": "markdown",
      "source": [
        "# Na parte de texto explicativo, o hashtag é simbolo em linguagem MARKDOWN usado para formatação TÌTULO"
      ],
      "metadata": {
        "id": "sFC_6TxyK55Z"
      }
    },
    {
      "cell_type": "code",
      "source": [
        "#Hashtag é comentário na parte onde eu programo\n",
        "p = float(input(\"Digite valor em polegadas: \"))\n",
        "mm = p * 25.4\n",
        "print(mm)\n",
        "\n"
      ],
      "metadata": {
        "colab": {
          "base_uri": "https://localhost:8080/"
        },
        "id": "ZPuISruBKCYK",
        "outputId": "7e6b1bbe-c838-4b52-caed-90f5d0ca50b7"
      },
      "execution_count": 3,
      "outputs": [
        {
          "output_type": "stream",
          "name": "stdout",
          "text": [
            "Digite valor em polegadas: 2\n",
            "50.8\n"
          ]
        }
      ]
    },
    {
      "cell_type": "markdown",
      "source": [
        "EX5\n",
        "\n",
        "\n",
        "```\n",
        "# Isto está formatado como código\n",
        "```\n",
        "\n"
      ],
      "metadata": {
        "id": "2bi6oUBER1qP"
      }
    },
    {
      "cell_type": "code",
      "source": [
        "# vou solicitar inicialamente o raio\n",
        "raio = float(input(\"Digite raio\"))\n",
        "3*raio"
      ],
      "metadata": {
        "colab": {
          "base_uri": "https://localhost:8080/"
        },
        "id": "wvn0Kv-hR7aY",
        "outputId": "6ce50997-832d-4d44-a60b-d4c5f34ab3c8"
      },
      "execution_count": 5,
      "outputs": [
        {
          "name": "stdout",
          "output_type": "stream",
          "text": [
            "Digite raio2\n"
          ]
        },
        {
          "output_type": "execute_result",
          "data": {
            "text/plain": [
              "6.0"
            ]
          },
          "metadata": {},
          "execution_count": 5
        }
      ]
    },
    {
      "cell_type": "code",
      "source": [
        "from math import pi\n",
        "#vou solicitar inicialmente o raio\n",
        "print (\"programa para calcular volume da esfera!\")\n",
        "raio = float(input(\"Digite raio:\"))\n",
        "v = (4/3) * pi * (raio**3)\n",
        "print(\"volume da esfera = \",v)"
      ],
      "metadata": {
        "colab": {
          "base_uri": "https://localhost:8080/"
        },
        "id": "plYC2xjvS40f",
        "outputId": "66a95953-0cc2-49c1-c3b1-8900b09e50cb"
      },
      "execution_count": 12,
      "outputs": [
        {
          "output_type": "stream",
          "name": "stdout",
          "text": [
            "programa para calcular volume da esfera!\n",
            "Digite raio:3\n",
            "volume da esfera =  113.09733552923254\n"
          ]
        }
      ]
    }
  ]
}